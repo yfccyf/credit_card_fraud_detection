{
 "cells": [
  {
   "cell_type": "code",
   "execution_count": 1,
   "metadata": {},
   "outputs": [],
   "source": [
    "# basic packages\n",
    "import pandas as pd\n",
    "import numpy as np\n",
    "import matplotlib.pyplot as plt\n",
    "import seaborn as sns\n",
    "import matplotlib.patches as mpatches\n",
    "import warnings\n",
    "warnings.filterwarnings(\"ignore\")"
   ]
  },
  {
   "cell_type": "code",
   "execution_count": 2,
   "metadata": {},
   "outputs": [],
   "source": [
    "# machine learning basics\n",
    "from sklearn.model_selection import train_test_split\n",
    "from sklearn.metrics import precision_score, recall_score, f1_score, roc_auc_score, accuracy_score, classification_report, confusion_matrix\n",
    "from sklearn.model_selection import KFold, StratifiedKFold, StratifiedShuffleSplit, GridSearchCV, RandomizedSearchCV\n",
    "from collections import Counter"
   ]
  },
  {
   "cell_type": "code",
   "execution_count": 123,
   "metadata": {},
   "outputs": [],
   "source": [
    "# Classifiers\n",
    "from sklearn.linear_model import LogisticRegression\n",
    "from sklearn.svm import SVC\n",
    "from sklearn.neighbors import KNeighborsClassifier\n",
    "from sklearn.tree import DecisionTreeClassifier\n",
    "from sklearn.ensemble import RandomForestClassifier"
   ]
  },
  {
   "cell_type": "code",
   "execution_count": 4,
   "metadata": {},
   "outputs": [],
   "source": [
    "# dimension reduction\n",
    "from sklearn.manifold import TSNE\n",
    "from sklearn.decomposition import PCA, TruncatedSVD\n",
    "from sklearn.discriminant_analysis import LinearDiscriminantAnalysis"
   ]
  },
  {
   "cell_type": "code",
   "execution_count": 5,
   "metadata": {},
   "outputs": [],
   "source": [
    "# imbalanced data\n",
    "# undersample\n",
    "from imblearn.under_sampling import RandomUnderSampler\n",
    "from imblearn.under_sampling import NearMiss\n",
    "from imblearn.under_sampling import TomekLinks\n",
    "\n",
    "# oversample\n",
    "from imblearn.over_sampling import SMOTE\n",
    "from imblearn.over_sampling import BorderlineSMOTE\n",
    "from imblearn.over_sampling import SVMSMOTE\n",
    "from imblearn.over_sampling import RandomOverSampler\n",
    "from imblearn.over_sampling import ADASYN\n",
    "\n",
    "# synthetic\n",
    "from imblearn.combine import SMOTEENN\n",
    "\n",
    "# metrics\n",
    "from imblearn.metrics import classification_report_imbalanced"
   ]
  },
  {
   "cell_type": "code",
   "execution_count": 6,
   "metadata": {},
   "outputs": [],
   "source": [
    "# sklearn & imblearn pipeline\n",
    "from sklearn.pipeline import make_pipeline\n",
    "from imblearn.pipeline import make_pipeline as imbalanced_make_pipeline"
   ]
  },
  {
   "cell_type": "code",
   "execution_count": 7,
   "metadata": {},
   "outputs": [],
   "source": [
    "df = pd.read_csv('df_scaled.csv')"
   ]
  },
  {
   "cell_type": "code",
   "execution_count": 8,
   "metadata": {},
   "outputs": [
    {
     "data": {
      "text/html": [
       "<div>\n",
       "<style scoped>\n",
       "    .dataframe tbody tr th:only-of-type {\n",
       "        vertical-align: middle;\n",
       "    }\n",
       "\n",
       "    .dataframe tbody tr th {\n",
       "        vertical-align: top;\n",
       "    }\n",
       "\n",
       "    .dataframe thead th {\n",
       "        text-align: right;\n",
       "    }\n",
       "</style>\n",
       "<table border=\"1\" class=\"dataframe\">\n",
       "  <thead>\n",
       "    <tr style=\"text-align: right;\">\n",
       "      <th></th>\n",
       "      <th>scaled_amount</th>\n",
       "      <th>scaled_time</th>\n",
       "      <th>V1</th>\n",
       "      <th>V2</th>\n",
       "      <th>V3</th>\n",
       "      <th>V4</th>\n",
       "      <th>V5</th>\n",
       "      <th>V6</th>\n",
       "      <th>V7</th>\n",
       "      <th>V8</th>\n",
       "      <th>...</th>\n",
       "      <th>V20</th>\n",
       "      <th>V21</th>\n",
       "      <th>V22</th>\n",
       "      <th>V23</th>\n",
       "      <th>V24</th>\n",
       "      <th>V25</th>\n",
       "      <th>V26</th>\n",
       "      <th>V27</th>\n",
       "      <th>V28</th>\n",
       "      <th>Class</th>\n",
       "    </tr>\n",
       "  </thead>\n",
       "  <tbody>\n",
       "    <tr>\n",
       "      <th>0</th>\n",
       "      <td>0.244964</td>\n",
       "      <td>-1.996583</td>\n",
       "      <td>-1.359807</td>\n",
       "      <td>-0.072781</td>\n",
       "      <td>2.536347</td>\n",
       "      <td>1.378155</td>\n",
       "      <td>-0.338321</td>\n",
       "      <td>0.462388</td>\n",
       "      <td>0.239599</td>\n",
       "      <td>0.098698</td>\n",
       "      <td>...</td>\n",
       "      <td>0.251412</td>\n",
       "      <td>-0.018307</td>\n",
       "      <td>0.277838</td>\n",
       "      <td>-0.110474</td>\n",
       "      <td>0.066928</td>\n",
       "      <td>0.128539</td>\n",
       "      <td>-0.189115</td>\n",
       "      <td>0.133558</td>\n",
       "      <td>-0.021053</td>\n",
       "      <td>0</td>\n",
       "    </tr>\n",
       "    <tr>\n",
       "      <th>1</th>\n",
       "      <td>-0.342475</td>\n",
       "      <td>-1.996583</td>\n",
       "      <td>1.191857</td>\n",
       "      <td>0.266151</td>\n",
       "      <td>0.166480</td>\n",
       "      <td>0.448154</td>\n",
       "      <td>0.060018</td>\n",
       "      <td>-0.082361</td>\n",
       "      <td>-0.078803</td>\n",
       "      <td>0.085102</td>\n",
       "      <td>...</td>\n",
       "      <td>-0.069083</td>\n",
       "      <td>-0.225775</td>\n",
       "      <td>-0.638672</td>\n",
       "      <td>0.101288</td>\n",
       "      <td>-0.339846</td>\n",
       "      <td>0.167170</td>\n",
       "      <td>0.125895</td>\n",
       "      <td>-0.008983</td>\n",
       "      <td>0.014724</td>\n",
       "      <td>0</td>\n",
       "    </tr>\n",
       "    <tr>\n",
       "      <th>2</th>\n",
       "      <td>1.160686</td>\n",
       "      <td>-1.996562</td>\n",
       "      <td>-1.358354</td>\n",
       "      <td>-1.340163</td>\n",
       "      <td>1.773209</td>\n",
       "      <td>0.379780</td>\n",
       "      <td>-0.503198</td>\n",
       "      <td>1.800499</td>\n",
       "      <td>0.791461</td>\n",
       "      <td>0.247676</td>\n",
       "      <td>...</td>\n",
       "      <td>0.524980</td>\n",
       "      <td>0.247998</td>\n",
       "      <td>0.771679</td>\n",
       "      <td>0.909412</td>\n",
       "      <td>-0.689281</td>\n",
       "      <td>-0.327642</td>\n",
       "      <td>-0.139097</td>\n",
       "      <td>-0.055353</td>\n",
       "      <td>-0.059752</td>\n",
       "      <td>0</td>\n",
       "    </tr>\n",
       "    <tr>\n",
       "      <th>3</th>\n",
       "      <td>0.140534</td>\n",
       "      <td>-1.996562</td>\n",
       "      <td>-0.966272</td>\n",
       "      <td>-0.185226</td>\n",
       "      <td>1.792993</td>\n",
       "      <td>-0.863291</td>\n",
       "      <td>-0.010309</td>\n",
       "      <td>1.247203</td>\n",
       "      <td>0.237609</td>\n",
       "      <td>0.377436</td>\n",
       "      <td>...</td>\n",
       "      <td>-0.208038</td>\n",
       "      <td>-0.108300</td>\n",
       "      <td>0.005274</td>\n",
       "      <td>-0.190321</td>\n",
       "      <td>-1.175575</td>\n",
       "      <td>0.647376</td>\n",
       "      <td>-0.221929</td>\n",
       "      <td>0.062723</td>\n",
       "      <td>0.061458</td>\n",
       "      <td>0</td>\n",
       "    </tr>\n",
       "    <tr>\n",
       "      <th>4</th>\n",
       "      <td>-0.073403</td>\n",
       "      <td>-1.996541</td>\n",
       "      <td>-1.158233</td>\n",
       "      <td>0.877737</td>\n",
       "      <td>1.548718</td>\n",
       "      <td>0.403034</td>\n",
       "      <td>-0.407193</td>\n",
       "      <td>0.095921</td>\n",
       "      <td>0.592941</td>\n",
       "      <td>-0.270533</td>\n",
       "      <td>...</td>\n",
       "      <td>0.408542</td>\n",
       "      <td>-0.009431</td>\n",
       "      <td>0.798278</td>\n",
       "      <td>-0.137458</td>\n",
       "      <td>0.141267</td>\n",
       "      <td>-0.206010</td>\n",
       "      <td>0.502292</td>\n",
       "      <td>0.219422</td>\n",
       "      <td>0.215153</td>\n",
       "      <td>0</td>\n",
       "    </tr>\n",
       "  </tbody>\n",
       "</table>\n",
       "<p>5 rows × 31 columns</p>\n",
       "</div>"
      ],
      "text/plain": [
       "   scaled_amount  scaled_time        V1        V2        V3        V4  \\\n",
       "0       0.244964    -1.996583 -1.359807 -0.072781  2.536347  1.378155   \n",
       "1      -0.342475    -1.996583  1.191857  0.266151  0.166480  0.448154   \n",
       "2       1.160686    -1.996562 -1.358354 -1.340163  1.773209  0.379780   \n",
       "3       0.140534    -1.996562 -0.966272 -0.185226  1.792993 -0.863291   \n",
       "4      -0.073403    -1.996541 -1.158233  0.877737  1.548718  0.403034   \n",
       "\n",
       "         V5        V6        V7        V8  ...       V20       V21       V22  \\\n",
       "0 -0.338321  0.462388  0.239599  0.098698  ...  0.251412 -0.018307  0.277838   \n",
       "1  0.060018 -0.082361 -0.078803  0.085102  ... -0.069083 -0.225775 -0.638672   \n",
       "2 -0.503198  1.800499  0.791461  0.247676  ...  0.524980  0.247998  0.771679   \n",
       "3 -0.010309  1.247203  0.237609  0.377436  ... -0.208038 -0.108300  0.005274   \n",
       "4 -0.407193  0.095921  0.592941 -0.270533  ...  0.408542 -0.009431  0.798278   \n",
       "\n",
       "        V23       V24       V25       V26       V27       V28  Class  \n",
       "0 -0.110474  0.066928  0.128539 -0.189115  0.133558 -0.021053      0  \n",
       "1  0.101288 -0.339846  0.167170  0.125895 -0.008983  0.014724      0  \n",
       "2  0.909412 -0.689281 -0.327642 -0.139097 -0.055353 -0.059752      0  \n",
       "3 -0.190321 -1.175575  0.647376 -0.221929  0.062723  0.061458      0  \n",
       "4 -0.137458  0.141267 -0.206010  0.502292  0.219422  0.215153      0  \n",
       "\n",
       "[5 rows x 31 columns]"
      ]
     },
     "execution_count": 8,
     "metadata": {},
     "output_type": "execute_result"
    }
   ],
   "source": [
    "df.head()"
   ]
  },
  {
   "cell_type": "markdown",
   "metadata": {},
   "source": [
    "---"
   ]
  },
  {
   "cell_type": "markdown",
   "metadata": {},
   "source": [
    "## Approach 1: Rebalancing the data with Under/Over-Sampling"
   ]
  },
  {
   "cell_type": "markdown",
   "metadata": {},
   "source": [
    "##### Train Test Split"
   ]
  },
  {
   "cell_type": "code",
   "execution_count": 10,
   "metadata": {},
   "outputs": [],
   "source": [
    "# split into predictors and target\n",
    "X = df.drop('Class', axis=1)\n",
    "y = df['Class']"
   ]
  },
  {
   "cell_type": "code",
   "execution_count": 11,
   "metadata": {},
   "outputs": [
    {
     "name": "stdout",
     "output_type": "stream",
     "text": [
      "Train: [202113  76521  34887 ...  10034  31368  41510] Test: [ 80631  26633 273008 ...  84843  22075 250212]\n",
      "Train: [235731 102152 132866 ...  47205 199032   2426] Test: [ 78680 136162 206563 ...  81832 136652 265859]\n",
      "Train: [172588   3138  84089 ...  87079  49539  74793] Test: [188215  66762 246999 ...  95387 165726 120394]\n",
      "Train: [ 62894 119204  27101 ... 107502 213243  69829] Test: [202262 176685 135318 ...  31280 283803  11634]\n",
      "Train: [262522 265908 203733 ... 252899 186183 102337] Test: [ 94132 112195  37207 ... 160555 225665 119393]\n"
     ]
    }
   ],
   "source": [
    "original_X_train, original_X_test, original_y_train, original__test = train_test_split(X, y, test_size=0.2, random_state=42)"
   ]
  },
  {
   "cell_type": "code",
   "execution_count": 12,
   "metadata": {},
   "outputs": [],
   "source": [
    "# turn into array\n",
    "original_X_train = original_X_train.values\n",
    "original_X_test = original_X_test.values\n",
    "original_y_train = original_y_train.values\n",
    "original_y_test = original_y_test.values"
   ]
  },
  {
   "cell_type": "code",
   "execution_count": 13,
   "metadata": {},
   "outputs": [
    {
     "name": "stdout",
     "output_type": "stream",
     "text": [
      "Label Distributions: \n",
      "[0.99827173 0.00172827]\n",
      "[0.99827955 0.00172045]\n"
     ]
    }
   ],
   "source": [
    "# check if the density of the target class is preserved while splitting\n",
    "train_unique_label, train_counts_label = np.unique(original_y_train, return_counts=True)\n",
    "test_unique_label, test_counts_label = np.unique(original_y_test, return_counts=True)\n",
    "\n",
    "print('Label Distributions: ')\n",
    "print(train_counts_label / len(original_y_train))\n",
    "print(test_counts_label / len(original_y_test))\n",
    "\n",
    "# label distributions are very well preserved"
   ]
  },
  {
   "cell_type": "code",
   "execution_count": 14,
   "metadata": {},
   "outputs": [
    {
     "name": "stdout",
     "output_type": "stream",
     "text": [
      "original_X_train:  256326\n",
      "original_X_test:  28481\n"
     ]
    }
   ],
   "source": [
    "print('original_X_train: ', len(original_X_train))\n",
    "print('original_X_test: ', len(original_X_test))"
   ]
  },
  {
   "cell_type": "markdown",
   "metadata": {},
   "source": [
    "##### Clustering"
   ]
  },
  {
   "cell_type": "code",
   "execution_count": 17,
   "metadata": {},
   "outputs": [],
   "source": [
    "# used the X_test dataset, as t-SNE is extremely CPU intensive\n",
    "# t-SNE\n",
    "X_tsne = TSNE(n_components=2, random_state=42).fit_transform(original_X_test)"
   ]
  },
  {
   "cell_type": "code",
   "execution_count": 16,
   "metadata": {},
   "outputs": [],
   "source": [
    "# PCA\n",
    "X_pca = PCA(n_components=2, random_state=42).fit_transform(original_X_test)"
   ]
  },
  {
   "cell_type": "code",
   "execution_count": 31,
   "metadata": {},
   "outputs": [],
   "source": [
    "# TruncatedSVD\n",
    "X_svd = TruncatedSVD(n_components=2, algorithm='randomized', random_state=42).fit_transform(original_X_test)"
   ]
  },
  {
   "cell_type": "code",
   "execution_count": 57,
   "metadata": {},
   "outputs": [
    {
     "data": {
      "image/png": "[encoded data removed]",
      "text/plain": [
       "<Figure size 1296x432 with 3 Axes>"
      ]
     },
     "metadata": {},
     "output_type": "display_data"
    }
   ],
   "source": [
    "# plot\n",
    "f, (ax1, ax2, ax3) = plt.subplots(1, 3, figsize=(18,6))\n",
    "f.suptitle('Clusters using Dimension Reduction techniques')\n",
    "\n",
    "blue_patch = mpatches.Patch(color='#0A0AFF', label='No Fraud')\n",
    "red_patch = mpatches.Patch(color='#AF0000', label='Fraud')\n",
    "\n",
    "# t-SNE\n",
    "ax1.scatter(X_tsne[:,0], X_tsne[:,1], c=(original_y_test==0), cmap='coolwarm', label='No Fraud', linewidths=2)\n",
    "ax1.scatter(X_tsne[:,0], X_tsne[:,1], c=(original_y_test==1), cmap='coolwarm', label='Fraud', linewidths=2)\n",
    "ax1.set_title('t-SNE')\n",
    "ax1.legend(handles=[blue_patch, red_patch])\n",
    "\n",
    "# PCA\n",
    "ax2.scatter(X_pca[:,0], X_pca[:,1], c=(original_y_test==0), cmap='coolwarm', label='No Fraud', linewidths=2)\n",
    "ax2.scatter(X_pca[:,0], X_pca[:,1], c=(original_y_test==1), cmap='coolwarm', label='Fraud', linewidths=2)\n",
    "ax2.set_title('PCA')\n",
    "ax2.legend(handles=[blue_patch, red_patch])\n",
    "\n",
    "# TruncatedSVD\n",
    "ax3.scatter(X_svd[:,0], X_svd[:,1], c=(original_y_test==0), cmap='coolwarm', label='No Fraud', linewidths=2)\n",
    "ax3.scatter(X_svd[:,0], X_svd[:,1], c=(original_y_test==1), cmap='coolwarm', label='Fraud', linewidths=2)\n",
    "ax3.set_title('TruncatedSVD')\n",
    "ax3.legend(handles=[blue_patch, red_patch])\n",
    "\n",
    "plt.show()"
   ]
  },
  {
   "cell_type": "markdown",
   "metadata": {},
   "source": [
    "##### Undersampling Train test split"
   ]
  },
  {
   "cell_type": "code",
   "execution_count": 15,
   "metadata": {},
   "outputs": [
    {
     "name": "stdout",
     "output_type": "stream",
     "text": [
      "Train: [ 59671  50275 163875 ... 165575  27606  83197] Test: [212161 278897  52001 ... 150751 148418  76671]\n",
      "Train: [ 11102 100249  57911 ... 157690 117254 115211] Test: [282409  54258  63773 ... 119405 195041  71375]\n",
      "Train: [147403   4362  43952 ... 141282  11377 150945] Test: [205537  71770 163309 ... 231723 267469 178795]\n",
      "Train: [199356  10682 230035 ...  99547  29303 112604] Test: [122749 235675 161072 ... 254532 192089 211416]\n",
      "Train: [110349 246073 113700 ...  64443 189470 170100] Test: [279053  20702 100187 ... 266963  80720 228386]\n"
     ]
    }
   ],
   "source": [
    "# because we are dealing with imbalanced data where the minority only accounts\n",
    "# for 0.17% of data, normal train test split would cause problem, so we use\n",
    "# the StratifiedShuffleSplit which creates splits by preserving the same\n",
    "# percentage for each target class as in the complete set\n",
    "from sklearn.model_selection import StratifiedShuffleSplit\n",
    "\n",
    "sss = StratifiedShuffleSplit(n_splits=5, random_state=None)\n",
    "\n",
    "undersample_X = df.drop('Class', axis=1)\n",
    "undersample_y = df['Class']\n",
    "\n",
    "for train_index, test_index in sss.split(undersample_X, undersample_y):\n",
    "    print('Train:', train_index, 'Test:', test_index)\n",
    "    undersample_X_train, undersample_X_test = undersample_X.iloc[train_index], undersample_X.iloc[test_index]\n",
    "    undersample_y_train, undersample_y_test = undersample_y.iloc[train_index], undersample_y.iloc[test_index]\n",
    "\n",
    "undersample_X_train = undersample_X_train.values\n",
    "undersample_X_test = undersample_X_test.values\n",
    "undersample_y_train = undersample_y_train.values\n",
    "undersample_y_test = undersample_y_test.values\n",
    "\n",
    "undersample_accuracy = []\n",
    "undersample_precision = []\n",
    "undersample_recall = []\n",
    "undersample_f1 = []\n",
    "undersample_auc = []"
   ]
  },
  {
   "cell_type": "code",
   "execution_count": 16,
   "metadata": {},
   "outputs": [
    {
     "name": "stdout",
     "output_type": "stream",
     "text": [
      "Label Distributions: \n",
      "[0.99827173 0.00172827]\n",
      "[0.99827955 0.00172045]\n"
     ]
    }
   ],
   "source": [
    "# check if the density of the target class is preserved while splitting\n",
    "train_unique_label, train_counts_label = np.unique(undersample_y_train, return_counts=True)\n",
    "test_unique_label, test_counts_label = np.unique(undersample_y_test, return_counts=True)\n",
    "\n",
    "print('Label Distributions: ')\n",
    "print(train_counts_label / len(undersample_y_train))\n",
    "print(test_counts_label / len(undersample_y_test))"
   ]
  },
  {
   "cell_type": "code",
   "execution_count": 17,
   "metadata": {},
   "outputs": [
    {
     "name": "stdout",
     "output_type": "stream",
     "text": [
      "undersample_X_train:  256326\n",
      "undersample_X_test:  28481\n"
     ]
    }
   ],
   "source": [
    "print('undersample_X_train: ', len(undersample_X_train))\n",
    "print('undersample_X_test: ', len(undersample_X_test))"
   ]
  },
  {
   "cell_type": "markdown",
   "metadata": {},
   "source": [
    "### A subtle but fatal mistake!!"
   ]
  },
  {
   "cell_type": "markdown",
   "metadata": {},
   "source": [
    "I trained and evaluated models right after this step and intended to do cross validations afterwards. However, some of the results were so impressive that I thought they were too good to be true! It turned out that I under/oversampled before cross validation causing \"data leakage\" problem!"
   ]
  },
  {
   "cell_type": "markdown",
   "metadata": {},
   "source": [
    "##### (Example: Random Oversampling + Random Forest)"
   ]
  },
  {
   "cell_type": "code",
   "execution_count": 110,
   "metadata": {},
   "outputs": [],
   "source": [
    "for train, test in sss.split(original_X_train, original_y_train):\n",
    "    overfit_ros_rf_pipeline = imbalanced_make_pipeline(RandomOverSampler(), random_forest)\n",
    "    overfit_ros_rf_model = overfit_ros_rf_pipeline.fit(original_X_train, original_y_train)\n",
    "    overfit_ros_rf_prediction = overfit_ros_rf_model.predict(original_X_test)"
   ]
  },
  {
   "cell_type": "code",
   "execution_count": 111,
   "metadata": {},
   "outputs": [
    {
     "name": "stdout",
     "output_type": "stream",
     "text": [
      "Classifcation report:\n",
      "               precision    recall  f1-score   support\n",
      "\n",
      "           0       1.00      1.00      1.00     28432\n",
      "           1       0.91      0.82      0.86        49\n",
      "\n",
      "    accuracy                           1.00     28481\n",
      "   macro avg       0.95      0.91      0.93     28481\n",
      "weighted avg       1.00      1.00      1.00     28481\n",
      "\n",
      "Confusion matrix:\n",
      " [[28428     4]\n",
      " [    9    40]]\n"
     ]
    }
   ],
   "source": [
    "print('Classifcation report:\\n', classification_report(original_y_test, overfit_ros_rf_prediction))\n",
    "conf_mat = confusion_matrix(y_true=original_y_test, y_pred=overfit_ros_rf_prediction)\n",
    "print('Confusion matrix:\\n', conf_mat)"
   ]
  },
  {
   "cell_type": "markdown",
   "metadata": {},
   "source": [
    "The results (f1 score = 0.86) is incredible. However, this is wrong"
   ]
  },
  {
   "cell_type": "markdown",
   "metadata": {},
   "source": [
    "We should make cross validation happen at the same time we are down/over-sampling"
   ]
  },
  {
   "cell_type": "markdown",
   "metadata": {},
   "source": [
    "### Training classifiers + Cross validation"
   ]
  },
  {
   "cell_type": "code",
   "execution_count": 18,
   "metadata": {},
   "outputs": [],
   "source": [
    "# logistic regression + GridSearchCV\n",
    "log_reg_params = {\"penalty\": ['l1', 'l2'], 'C': [0.001, 0.01, 0.1, 1, 10, 100, 1000]}\n",
    "grid_log_reg = GridSearchCV(LogisticRegression(), log_reg_params)\n",
    "grid_log_reg.fit(undersample_X_train, undersample_y_train)\n",
    "log_reg = grid_log_reg.best_estimator_"
   ]
  },
  {
   "cell_type": "code",
   "execution_count": 21,
   "metadata": {},
   "outputs": [
    {
     "name": "stdout",
     "output_type": "stream",
     "text": [
      "Fitting 3 folds for each of 4 candidates, totalling 12 fits\n"
     ]
    },
    {
     "name": "stderr",
     "output_type": "stream",
     "text": [
      "[Parallel(n_jobs=-1)]: Using backend LokyBackend with 12 concurrent workers.\n",
      "[Parallel(n_jobs=-1)]: Done   3 out of  12 | elapsed: 19.9min remaining: 59.8min\n",
      "[Parallel(n_jobs=-1)]: Done  10 out of  12 | elapsed: 85.0min remaining: 17.0min\n",
      "[Parallel(n_jobs=-1)]: Done  12 out of  12 | elapsed: 85.5min finished\n"
     ]
    }
   ],
   "source": [
    "# Random Forest + RandomizedSearchCV\n",
    "\n",
    "# create the random grid\n",
    "# Number of trees in random forest\n",
    "n_estimators = [int(x) for x in np.linspace(start = 200, stop = 2000, num = 10)]\n",
    "# Number of features to consider at every split\n",
    "max_features = ['auto', 'sqrt']\n",
    "# Maximum number of levels in tree\n",
    "max_depth = [int(x) for x in np.linspace(10, 110, num = 11)]\n",
    "max_depth.append(None)\n",
    "# Minimum number of samples required to split a node\n",
    "min_samples_split = [2, 5, 10]\n",
    "# Minimum number of samples required at each leaf node\n",
    "min_samples_leaf = [1, 2, 4]\n",
    "# Method of selecting samples for training each tree\n",
    "bootstrap = [True, False]\n",
    "\n",
    "random_grid = {'n_estimators': n_estimators,\n",
    "               'max_features': max_features,\n",
    "               'max_depth': max_depth,\n",
    "               'min_samples_split': min_samples_split,\n",
    "               'min_samples_leaf': min_samples_leaf,\n",
    "               'bootstrap': bootstrap}\n",
    "\n",
    "rf = RandomForestClassifier()\n",
    "rf_random = RandomizedSearchCV(estimator=rf, param_distributions=random_grid, n_iter=4, cv=3, verbose=2, random_state=42, n_jobs=-1)\n",
    "rf_random.fit(undersample_X_train, undersample_y_train)\n",
    "rf = rf_random.best_estimator_"
   ]
  },
  {
   "cell_type": "markdown",
   "metadata": {},
   "source": [
    "### Undersampling"
   ]
  },
  {
   "cell_type": "markdown",
   "metadata": {},
   "source": [
    "##### (Random undersampling + logistic regression)"
   ]
  },
  {
   "cell_type": "code",
   "execution_count": 23,
   "metadata": {},
   "outputs": [],
   "source": [
    "for train, test in sss.split(undersample_X_train, undersample_y_train):\n",
    "    rus_lr_pipeline = imbalanced_make_pipeline(RandomUnderSampler(), log_reg)\n",
    "    rus_lr_model = rus_lr_pipeline.fit(undersample_X_train, undersample_y_train)\n",
    "    rus_lr_prediction = rus_lr_model.predict(undersample_X_test)"
   ]
  },
  {
   "cell_type": "code",
   "execution_count": 24,
   "metadata": {},
   "outputs": [
    {
     "name": "stdout",
     "output_type": "stream",
     "text": [
      "Classifcation report:\n",
      "               precision    recall  f1-score   support\n",
      "\n",
      "           0       1.00      0.94      0.97     28432\n",
      "           1       0.03      0.94      0.05        49\n",
      "\n",
      "    accuracy                           0.94     28481\n",
      "   macro avg       0.51      0.94      0.51     28481\n",
      "weighted avg       1.00      0.94      0.97     28481\n",
      "\n",
      "Confusion matrix:\n",
      " [[26771  1661]\n",
      " [    3    46]]\n"
     ]
    }
   ],
   "source": [
    "print('Classifcation report:\\n', classification_report(undersample_y_test, rus_lr_prediction))\n",
    "conf_mat = confusion_matrix(y_true=undersample_y_test, y_pred=rus_lr_prediction)\n",
    "print('Confusion matrix:\\n', conf_mat)"
   ]
  },
  {
   "cell_type": "markdown",
   "metadata": {},
   "source": [
    "##### (NearMiss + logistic regression)"
   ]
  },
  {
   "cell_type": "code",
   "execution_count": 25,
   "metadata": {},
   "outputs": [],
   "source": [
    "for train, test in sss.split(undersample_X_train, undersample_y_train):\n",
    "    nm_lr_pipeline = imbalanced_make_pipeline(NearMiss(sampling_strategy='majority'), log_reg)\n",
    "    nm_lr_model = nm_lr_pipeline.fit(undersample_X_train, undersample_y_train)\n",
    "    nm_lr_prediction = nm_lr_model.predict(undersample_X_test)"
   ]
  },
  {
   "cell_type": "code",
   "execution_count": 26,
   "metadata": {},
   "outputs": [
    {
     "name": "stdout",
     "output_type": "stream",
     "text": [
      "Classifcation report:\n",
      "               precision    recall  f1-score   support\n",
      "\n",
      "           0       1.00      0.55      0.71     28432\n",
      "           1       0.00      0.94      0.01        49\n",
      "\n",
      "    accuracy                           0.55     28481\n",
      "   macro avg       0.50      0.75      0.36     28481\n",
      "weighted avg       1.00      0.55      0.71     28481\n",
      "\n",
      "Confusion matrix:\n",
      " [[15759 12673]\n",
      " [    3    46]]\n"
     ]
    }
   ],
   "source": [
    "print('Classifcation report:\\n', classification_report(undersample_y_test, nm_lr_prediction))\n",
    "conf_mat = confusion_matrix(y_true=undersample_y_test, y_pred=nm_lr_prediction)\n",
    "print('Confusion matrix:\\n', conf_mat)"
   ]
  },
  {
   "cell_type": "markdown",
   "metadata": {},
   "source": [
    "##### (Random undersampling + random forest)"
   ]
  },
  {
   "cell_type": "code",
   "execution_count": 28,
   "metadata": {},
   "outputs": [],
   "source": [
    "for train, test in sss.split(undersample_X_train, undersample_y_train):\n",
    "    rus_rf_pipeline = imbalanced_make_pipeline(RandomUnderSampler(), rf)\n",
    "    rus_rf_model = rus_rf_pipeline.fit(undersample_X_train, undersample_y_train)\n",
    "    rus_rf_prediction = rus_rf_model.predict(undersample_X_test)"
   ]
  },
  {
   "cell_type": "code",
   "execution_count": 29,
   "metadata": {},
   "outputs": [
    {
     "name": "stdout",
     "output_type": "stream",
     "text": [
      "Classifcation report:\n",
      "               precision    recall  f1-score   support\n",
      "\n",
      "           0       1.00      0.98      0.99     28432\n",
      "           1       0.08      0.90      0.15        49\n",
      "\n",
      "    accuracy                           0.98     28481\n",
      "   macro avg       0.54      0.94      0.57     28481\n",
      "weighted avg       1.00      0.98      0.99     28481\n",
      "\n",
      "Confusion matrix:\n",
      " [[27927   505]\n",
      " [    5    44]]\n"
     ]
    }
   ],
   "source": [
    "print('Classifcation report:\\n', classification_report(undersample_y_test, rus_rf_prediction))\n",
    "conf_mat = confusion_matrix(y_true=undersample_y_test, y_pred=rus_rf_prediction)\n",
    "print('Confusion matrix:\\n', conf_mat)"
   ]
  },
  {
   "cell_type": "markdown",
   "metadata": {},
   "source": [
    "##### (NearMiss + random forest)"
   ]
  },
  {
   "cell_type": "code",
   "execution_count": 30,
   "metadata": {},
   "outputs": [],
   "source": [
    "for train, test in sss.split(undersample_X_train, undersample_y_train):\n",
    "    nm_rf_pipeline = imbalanced_make_pipeline(NearMiss(sampling_strategy='majority'), rf)\n",
    "    nm_rf_model = nm_rf_pipeline.fit(undersample_X_train, undersample_y_train)\n",
    "    nm_rf_prediction = nm_rf_model.predict(undersample_X_test)"
   ]
  },
  {
   "cell_type": "code",
   "execution_count": 31,
   "metadata": {},
   "outputs": [
    {
     "name": "stdout",
     "output_type": "stream",
     "text": [
      "Classifcation report:\n",
      "               precision    recall  f1-score   support\n",
      "\n",
      "           0       1.00      0.11      0.20     28432\n",
      "           1       0.00      1.00      0.00        49\n",
      "\n",
      "    accuracy                           0.11     28481\n",
      "   macro avg       0.50      0.55      0.10     28481\n",
      "weighted avg       1.00      0.11      0.20     28481\n",
      "\n",
      "Confusion matrix:\n",
      " [[ 3112 25320]\n",
      " [    0    49]]\n"
     ]
    }
   ],
   "source": [
    "print('Classifcation report:\\n', classification_report(undersample_y_test, nm_rf_prediction))\n",
    "conf_mat = confusion_matrix(y_true=undersample_y_test, y_pred=nm_rf_prediction)\n",
    "print('Confusion matrix:\\n', conf_mat)"
   ]
  },
  {
   "cell_type": "markdown",
   "metadata": {},
   "source": [
    "### Oversampling"
   ]
  },
  {
   "cell_type": "markdown",
   "metadata": {},
   "source": [
    "#### (logistic regression)"
   ]
  },
  {
   "cell_type": "markdown",
   "metadata": {},
   "source": [
    "##### (Random oversampling + logistic regression)"
   ]
  },
  {
   "cell_type": "code",
   "execution_count": 76,
   "metadata": {},
   "outputs": [],
   "source": [
    "for train, test in sss.split(original_X_train, original_y_train):\n",
    "    ros_lr_pipeline = imbalanced_make_pipeline(RandomOverSampler(), log_reg)\n",
    "    ros_lr_model = ros_lr_pipeline.fit(original_X_train, original_y_train)\n",
    "    ros_lr_prediction = ros_lr_model.predict(original_X_test)"
   ]
  },
  {
   "cell_type": "code",
   "execution_count": 77,
   "metadata": {},
   "outputs": [
    {
     "name": "stdout",
     "output_type": "stream",
     "text": [
      "Classifcation report:\n",
      "               precision    recall  f1-score   support\n",
      "\n",
      "           0       1.00      0.98      0.99     28432\n",
      "           1       0.06      0.88      0.12        49\n",
      "\n",
      "    accuracy                           0.98     28481\n",
      "   macro avg       0.53      0.93      0.55     28481\n",
      "weighted avg       1.00      0.98      0.99     28481\n",
      "\n",
      "Confusion matrix:\n",
      " [[27803   629]\n",
      " [    6    43]]\n"
     ]
    }
   ],
   "source": [
    "print('Classifcation report:\\n', classification_report(original_y_test, ros_lr_prediction))\n",
    "conf_mat = confusion_matrix(y_true=original_y_test, y_pred=ros_lr_prediction)\n",
    "print('Confusion matrix:\\n', conf_mat)"
   ]
  },
  {
   "cell_type": "markdown",
   "metadata": {},
   "source": [
    "##### (SMOTE + logistic regression)"
   ]
  },
  {
   "cell_type": "code",
   "execution_count": 78,
   "metadata": {},
   "outputs": [],
   "source": [
    "for train, test in sss.split(original_X_train, original_y_train):\n",
    "    smote_lr_pipeline = imbalanced_make_pipeline(SMOTE(sampling_strategy='minority'), log_reg)\n",
    "    smote_lr_model = smote_lr_pipeline.fit(original_X_train, original_y_train)\n",
    "    smote_lr_prediction = smote_lr_model.predict(original_X_test)"
   ]
  },
  {
   "cell_type": "code",
   "execution_count": 79,
   "metadata": {},
   "outputs": [
    {
     "name": "stdout",
     "output_type": "stream",
     "text": [
      "Classifcation report:\n",
      "               precision    recall  f1-score   support\n",
      "\n",
      "           0       1.00      0.98      0.99     28432\n",
      "           1       0.06      0.88      0.11        49\n",
      "\n",
      "    accuracy                           0.98     28481\n",
      "   macro avg       0.53      0.93      0.55     28481\n",
      "weighted avg       1.00      0.98      0.99     28481\n",
      "\n",
      "Confusion matrix:\n",
      " [[27745   687]\n",
      " [    6    43]]\n"
     ]
    }
   ],
   "source": [
    "print('Classifcation report:\\n', classification_report(original_y_test, smote_lr_prediction))\n",
    "conf_mat = confusion_matrix(y_true=original_y_test, y_pred=smote_lr_prediction)\n",
    "print('Confusion matrix:\\n', conf_mat)"
   ]
  },
  {
   "cell_type": "markdown",
   "metadata": {},
   "source": [
    "##### (Borderline SMOTE + logistic regression)"
   ]
  },
  {
   "cell_type": "code",
   "execution_count": 63,
   "metadata": {},
   "outputs": [],
   "source": [
    "for train, test in sss.split(original_X_train, original_y_train):\n",
    "    bsmote_lr_pipeline = imbalanced_make_pipeline(BorderlineSMOTE(sampling_strategy='minority'), log_reg)\n",
    "    bsmote_lr_model = bsmote_lr_pipeline.fit(original_X_train, original_y_train)\n",
    "    bsmote_lr_prediction = bsmote_lr_model.predict(original_X_test)"
   ]
  },
  {
   "cell_type": "code",
   "execution_count": 64,
   "metadata": {},
   "outputs": [
    {
     "name": "stdout",
     "output_type": "stream",
     "text": [
      "Classifcation report:\n",
      "               precision    recall  f1-score   support\n",
      "\n",
      "           0       1.00      0.99      1.00     28432\n",
      "           1       0.15      0.86      0.26        49\n",
      "\n",
      "    accuracy                           0.99     28481\n",
      "   macro avg       0.58      0.92      0.63     28481\n",
      "weighted avg       1.00      0.99      0.99     28481\n",
      "\n",
      "Confusion matrix:\n",
      " [[28203   229]\n",
      " [    7    42]]\n"
     ]
    }
   ],
   "source": [
    "print('Classifcation report:\\n', classification_report(original_y_test, bsmote_lr_prediction))\n",
    "conf_mat = confusion_matrix(y_true=original_y_test, y_pred=bsmote_lr_prediction)\n",
    "print('Confusion matrix:\\n', conf_mat)"
   ]
  },
  {
   "cell_type": "markdown",
   "metadata": {},
   "source": [
    "##### (ADASYN + logistic regression)"
   ]
  },
  {
   "cell_type": "code",
   "execution_count": 80,
   "metadata": {},
   "outputs": [],
   "source": [
    "for train, test in sss.split(original_X_train, original_y_train):\n",
    "    adasyn_lr_pipeline = imbalanced_make_pipeline(ADASYN(sampling_strategy='minority'), log_reg)\n",
    "    adasyn_lr_model = adasyn_lr_pipeline.fit(original_X_train, original_y_train)\n",
    "    adasyn_lr_prediction = adasyn_lr_model.predict(original_X_test)"
   ]
  },
  {
   "cell_type": "code",
   "execution_count": 81,
   "metadata": {},
   "outputs": [
    {
     "name": "stdout",
     "output_type": "stream",
     "text": [
      "Classifcation report:\n",
      "               precision    recall  f1-score   support\n",
      "\n",
      "           0       1.00      0.91      0.95     28432\n",
      "           1       0.02      0.96      0.04        49\n",
      "\n",
      "    accuracy                           0.91     28481\n",
      "   macro avg       0.51      0.93      0.49     28481\n",
      "weighted avg       1.00      0.91      0.95     28481\n",
      "\n",
      "Confusion matrix:\n",
      " [[25855  2577]\n",
      " [    2    47]]\n"
     ]
    }
   ],
   "source": [
    "print('Classifcation report:\\n', classification_report(original_y_test, adasyn_lr_prediction))\n",
    "conf_mat = confusion_matrix(y_true=original_y_test, y_pred=adasyn_lr_prediction)\n",
    "print('Confusion matrix:\\n', conf_mat)"
   ]
  },
  {
   "cell_type": "markdown",
   "metadata": {},
   "source": [
    "#### (Random forest)"
   ]
  },
  {
   "cell_type": "markdown",
   "metadata": {},
   "source": [
    "##### (Random oversampling + random forest)"
   ]
  },
  {
   "cell_type": "code",
   "execution_count": null,
   "metadata": {},
   "outputs": [],
   "source": [
    "for train, test in sss.split(original_X_train, original_y_train):\n",
    "    ros_rf_pipeline = imbalanced_make_pipeline(RandomOverSampler(), rf)\n",
    "    ros_rf_model = ros_rf_pipeline.fit(original_X_train, original_y_train)\n",
    "    ros_rf_prediction = ros_rf_model.predict(original_X_test)"
   ]
  },
  {
   "cell_type": "code",
   "execution_count": 52,
   "metadata": {},
   "outputs": [
    {
     "name": "stdout",
     "output_type": "stream",
     "text": [
      "Classifcation report:\n",
      "               precision    recall  f1-score   support\n",
      "\n",
      "           0       1.00      0.98      0.99     28432\n",
      "           1       0.07      0.88      0.13        49\n",
      "\n",
      "    accuracy                           0.98     28481\n",
      "   macro avg       0.53      0.93      0.56     28481\n",
      "weighted avg       1.00      0.98      0.99     28481\n",
      "\n",
      "Confusion matrix:\n",
      " [[27837   595]\n",
      " [    6    43]]\n"
     ]
    }
   ],
   "source": [
    "print('Classifcation report:\\n', classification_report(original_y_test, ros_rf_prediction))\n",
    "conf_mat = confusion_matrix(y_true=original_y_test, y_pred=ros_rf_prediction)\n",
    "print('Confusion matrix:\\n', conf_mat)"
   ]
  },
  {
   "cell_type": "markdown",
   "metadata": {},
   "source": [
    "##### (SMOTE + random forest)"
   ]
  },
  {
   "cell_type": "code",
   "execution_count": null,
   "metadata": {},
   "outputs": [],
   "source": [
    "for train, test in sss.split(original_X_train, original_y_train):\n",
    "    smote_rf_pipeline = imbalanced_make_pipeline(SMOTE(sampling_strategy='minority'), rf)\n",
    "    smote_rf_model = smote_rf_pipeline.fit(original_X_train, original_y_train)\n",
    "    smote_rf_prediction = smote_rf_model.predict(original_X_test)"
   ]
  },
  {
   "cell_type": "code",
   "execution_count": null,
   "metadata": {},
   "outputs": [],
   "source": [
    "print('Classifcation report:\\n', classification_report(original_y_test, smote_rf_prediction))\n",
    "conf_mat = confusion_matrix(y_true=original_y_test, y_pred=smote_rf_prediction)\n",
    "print('Confusion matrix:\\n', conf_mat)"
   ]
  },
  {
   "cell_type": "markdown",
   "metadata": {},
   "source": [
    "##### (Borderline SMOTE + random forest)"
   ]
  },
  {
   "cell_type": "code",
   "execution_count": null,
   "metadata": {},
   "outputs": [],
   "source": [
    "for train, test in sss.split(original_X_train, original_y_train):\n",
    "    bsmote_rf_pipeline = imbalanced_make_pipeline(BorderlineSMOTE(sampling_strategy='minority'), rf)\n",
    "    bsmote_rf_model = bsmote_rf_pipeline.fit(original_X_train, original_y_train)\n",
    "    bsmote_rf_prediction = bsmote_rf_model.predict(original_X_test)"
   ]
  },
  {
   "cell_type": "code",
   "execution_count": null,
   "metadata": {},
   "outputs": [],
   "source": [
    "print('Classifcation report:\\n', classification_report(original_y_test, bsmote_rf_prediction))\n",
    "conf_mat = confusion_matrix(y_true=original_y_test, y_pred=bsmote_rf_prediction)\n",
    "print('Confusion matrix:\\n', conf_mat)"
   ]
  },
  {
   "cell_type": "markdown",
   "metadata": {},
   "source": [
    "##### (ADASYN + random forest)"
   ]
  },
  {
   "cell_type": "code",
   "execution_count": null,
   "metadata": {},
   "outputs": [],
   "source": [
    "for train, test in sss.split(original_X_train, original_y_train):\n",
    "    adasyn_rf_pipeline = imbalanced_make_pipeline(ADASYN(sampling_strategy='minority'), rf)\n",
    "    adasyn_rf_model = adasyn_rf_pipeline.fit(original_X_train, original_y_train)\n",
    "    adasyn_rf_prediction = adasyn_rf_model.predict(original_X_test)"
   ]
  },
  {
   "cell_type": "code",
   "execution_count": null,
   "metadata": {},
   "outputs": [],
   "source": [
    "print('Classifcation report:\\n', classification_report(original_y_test, adasyn_rf_prediction))\n",
    "conf_mat = confusion_matrix(y_true=original_y_test, y_pred=adasyn_rf_prediction)\n",
    "print('Confusion matrix:\\n', conf_mat)"
   ]
  },
  {
   "cell_type": "markdown",
   "metadata": {},
   "source": [
    "---"
   ]
  },
  {
   "cell_type": "markdown",
   "metadata": {},
   "source": [
    "## Approach 2: Threshold moving"
   ]
  },
  {
   "cell_type": "markdown",
   "metadata": {},
   "source": [
    "##### Train test split"
   ]
  },
  {
   "cell_type": "code",
   "execution_count": 118,
   "metadata": {},
   "outputs": [],
   "source": [
    "Xtrain, Xtest, ytrain, ytest = model_selection.train_test_split(\n",
    "        df.loc[:,'scaled_amount':'V28'], df.Class,  stratify=df.Class, \n",
    "        test_size=0.3, random_state=42)"
   ]
  },
  {
   "cell_type": "markdown",
   "metadata": {},
   "source": [
    "##### (Logistic Regression)"
   ]
  },
  {
   "cell_type": "code",
   "execution_count": 159,
   "metadata": {},
   "outputs": [],
   "source": [
    "lr_classifier = LogisticRegression().fit(Xtrain,ytrain)"
   ]
  },
  {
   "cell_type": "code",
   "execution_count": 160,
   "metadata": {},
   "outputs": [
    {
     "data": {
      "text/html": [
       "<div>\n",
       "<style scoped>\n",
       "    .dataframe tbody tr th:only-of-type {\n",
       "        vertical-align: middle;\n",
       "    }\n",
       "\n",
       "    .dataframe tbody tr th {\n",
       "        vertical-align: top;\n",
       "    }\n",
       "\n",
       "    .dataframe thead th {\n",
       "        text-align: right;\n",
       "    }\n",
       "</style>\n",
       "<table border=\"1\" class=\"dataframe\">\n",
       "  <thead>\n",
       "    <tr style=\"text-align: right;\">\n",
       "      <th></th>\n",
       "      <th>Pred 0(Approve as Legit)</th>\n",
       "      <th>Pred 1(Deny as Fraud)</th>\n",
       "    </tr>\n",
       "  </thead>\n",
       "  <tbody>\n",
       "    <tr>\n",
       "      <th>True 0(Legit)</th>\n",
       "      <td>TN = 85280 (TNR = 99.98%)</td>\n",
       "      <td>FP = 15 (FPR = 0.02%)</td>\n",
       "    </tr>\n",
       "    <tr>\n",
       "      <th>True 1(Fraud)</th>\n",
       "      <td>FN = 55 (FNR = 37.16%)</td>\n",
       "      <td>TP = 93 (TPR = 62.84%)</td>\n",
       "    </tr>\n",
       "  </tbody>\n",
       "</table>\n",
       "</div>"
      ],
      "text/plain": [
       "                Pred 0(Approve as Legit)   Pred 1(Deny as Fraud)\n",
       "True 0(Legit)  TN = 85280 (TNR = 99.98%)   FP = 15 (FPR = 0.02%)\n",
       "True 1(Fraud)     FN = 55 (FNR = 37.16%)  TP = 93 (TPR = 62.84%)"
      ]
     },
     "execution_count": 160,
     "metadata": {},
     "output_type": "execute_result"
    }
   ],
   "source": [
    "hardpredtst=lr_classifier.predict(Xtest)\n",
    "def conf_matrix(y,pred):\n",
    "    ((tn, fp), (fn, tp)) = metrics.confusion_matrix(y, pred)\n",
    "    ((tnr,fpr),(fnr,tpr))= metrics.confusion_matrix(y, pred, \n",
    "            normalize='true')\n",
    "    return pd.DataFrame([[f'TN = {tn} (TNR = {tnr:1.2%})', \n",
    "                                f'FP = {fp} (FPR = {fpr:1.2%})'], \n",
    "                         [f'FN = {fn} (FNR = {fnr:1.2%})', \n",
    "                                f'TP = {tp} (TPR = {tpr:1.2%})']],\n",
    "            index=['True 0(Legit)', 'True 1(Fraud)'], \n",
    "            columns=['Pred 0(Approve as Legit)', \n",
    "                            'Pred 1(Deny as Fraud)'])\n",
    "conf_matrix(ytest,hardpredtst)"
   ]
  },
  {
   "cell_type": "code",
   "execution_count": 165,
   "metadata": {},
   "outputs": [
    {
     "data": {
      "image/png": "[encoded data removed]",
      "text/plain": [
       "<Figure size 720x432 with 1 Axes>"
      ]
     },
     "metadata": {
      "needs_background": "light"
     },
     "output_type": "display_data"
    }
   ],
   "source": [
    "predtst=lr_classifier.predict_proba(Xtest)[:,1]\n",
    "fpr, tpr, thresholds = metrics.roc_curve(ytest, predtst)\n",
    "dfplot=pd.DataFrame({'Threshold':thresholds, \n",
    "        'False Positive Rate':fpr, \n",
    "        'False Negative Rate': 1.-tpr})\n",
    "ax=dfplot.plot(x='Threshold', y=['False Positive Rate',\n",
    "        'False Negative Rate'], figsize=(10,6))\n",
    "ax.plot([0.00125,0.00125],[0,0.14])\n",
    "ax.set_xbound(0,0.002); ax.set_ybound(0,0.3)"
   ]
  },
  {
   "cell_type": "code",
   "execution_count": 166,
   "metadata": {},
   "outputs": [
    {
     "data": {
      "text/html": [
       "<div>\n",
       "<style scoped>\n",
       "    .dataframe tbody tr th:only-of-type {\n",
       "        vertical-align: middle;\n",
       "    }\n",
       "\n",
       "    .dataframe tbody tr th {\n",
       "        vertical-align: top;\n",
       "    }\n",
       "\n",
       "    .dataframe thead th {\n",
       "        text-align: right;\n",
       "    }\n",
       "</style>\n",
       "<table border=\"1\" class=\"dataframe\">\n",
       "  <thead>\n",
       "    <tr style=\"text-align: right;\">\n",
       "      <th></th>\n",
       "      <th>Pred 0(Approve as Legit)</th>\n",
       "      <th>Pred 1(Deny as Fraud)</th>\n",
       "    </tr>\n",
       "  </thead>\n",
       "  <tbody>\n",
       "    <tr>\n",
       "      <th>True 0(Legit)</th>\n",
       "      <td>TN = 79934 (TNR = 93.71%)</td>\n",
       "      <td>FP = 5361 (FPR = 6.29%)</td>\n",
       "    </tr>\n",
       "    <tr>\n",
       "      <th>True 1(Fraud)</th>\n",
       "      <td>FN = 18 (FNR = 12.16%)</td>\n",
       "      <td>TP = 130 (TPR = 87.84%)</td>\n",
       "    </tr>\n",
       "  </tbody>\n",
       "</table>\n",
       "</div>"
      ],
      "text/plain": [
       "                Pred 0(Approve as Legit)    Pred 1(Deny as Fraud)\n",
       "True 0(Legit)  TN = 79934 (TNR = 93.71%)  FP = 5361 (FPR = 6.29%)\n",
       "True 1(Fraud)     FN = 18 (FNR = 12.16%)  TP = 130 (TPR = 87.84%)"
      ]
     },
     "execution_count": 166,
     "metadata": {},
     "output_type": "execute_result"
    }
   ],
   "source": [
    "hardpredtst_tuned_thresh = np.where(predtst >= 0.00125, 1, 0)\n",
    "conf_matrix(ytest, hardpredtst_tuned_thresh)"
   ]
  },
  {
   "cell_type": "markdown",
   "metadata": {},
   "source": [
    "##### (Random Forest Classifier)"
   ]
  },
  {
   "cell_type": "code",
   "execution_count": 135,
   "metadata": {},
   "outputs": [],
   "source": [
    "rf_classifier = RandomForestClassifier().fit(Xtrain,ytrain)"
   ]
  },
  {
   "cell_type": "code",
   "execution_count": 136,
   "metadata": {},
   "outputs": [
    {
     "data": {
      "text/html": [
       "<div>\n",
       "<style scoped>\n",
       "    .dataframe tbody tr th:only-of-type {\n",
       "        vertical-align: middle;\n",
       "    }\n",
       "\n",
       "    .dataframe tbody tr th {\n",
       "        vertical-align: top;\n",
       "    }\n",
       "\n",
       "    .dataframe thead th {\n",
       "        text-align: right;\n",
       "    }\n",
       "</style>\n",
       "<table border=\"1\" class=\"dataframe\">\n",
       "  <thead>\n",
       "    <tr style=\"text-align: right;\">\n",
       "      <th></th>\n",
       "      <th>Pred 0(Approve as Legit)</th>\n",
       "      <th>Pred 1(Deny as Fraud)</th>\n",
       "    </tr>\n",
       "  </thead>\n",
       "  <tbody>\n",
       "    <tr>\n",
       "      <th>True 0(Legit)</th>\n",
       "      <td>TN = 85288 (TNR = 99.99%)</td>\n",
       "      <td>FP = 7 (FPR = 0.01%)</td>\n",
       "    </tr>\n",
       "    <tr>\n",
       "      <th>True 1(Fraud)</th>\n",
       "      <td>FN = 37 (FNR = 25.00%)</td>\n",
       "      <td>TP = 111 (TPR = 75.00%)</td>\n",
       "    </tr>\n",
       "  </tbody>\n",
       "</table>\n",
       "</div>"
      ],
      "text/plain": [
       "                Pred 0(Approve as Legit)    Pred 1(Deny as Fraud)\n",
       "True 0(Legit)  TN = 85288 (TNR = 99.99%)     FP = 7 (FPR = 0.01%)\n",
       "True 1(Fraud)     FN = 37 (FNR = 25.00%)  TP = 111 (TPR = 75.00%)"
      ]
     },
     "execution_count": 136,
     "metadata": {},
     "output_type": "execute_result"
    }
   ],
   "source": [
    "hardpredtst=rf_classifier.predict(Xtest)\n",
    "def conf_matrix(y,pred):\n",
    "    ((tn, fp), (fn, tp)) = metrics.confusion_matrix(y, pred)\n",
    "    ((tnr,fpr),(fnr,tpr))= metrics.confusion_matrix(y, pred, \n",
    "            normalize='true')\n",
    "    return pd.DataFrame([[f'TN = {tn} (TNR = {tnr:1.2%})', \n",
    "                                f'FP = {fp} (FPR = {fpr:1.2%})'], \n",
    "                         [f'FN = {fn} (FNR = {fnr:1.2%})', \n",
    "                                f'TP = {tp} (TPR = {tpr:1.2%})']],\n",
    "            index=['True 0(Legit)', 'True 1(Fraud)'], \n",
    "            columns=['Pred 0(Approve as Legit)', \n",
    "                            'Pred 1(Deny as Fraud)'])\n",
    "conf_matrix(ytest,hardpredtst)"
   ]
  },
  {
   "cell_type": "code",
   "execution_count": 149,
   "metadata": {},
   "outputs": [
    {
     "data": {
      "image/png": "[encoded data removed]",
      "text/plain": [
       "<Figure size 720x432 with 1 Axes>"
      ]
     },
     "metadata": {
      "needs_background": "light"
     },
     "output_type": "display_data"
    }
   ],
   "source": [
    "predtst=rf_classifier.predict_proba(Xtest)[:,1]\n",
    "fpr, tpr, thresholds = metrics.roc_curve(ytest, predtst)\n",
    "dfplot=pd.DataFrame({'Threshold':thresholds, \n",
    "        'False Positive Rate':fpr, \n",
    "        'False Negative Rate': 1.-tpr})\n",
    "ax=dfplot.plot(x='Threshold', y=['False Positive Rate',\n",
    "        'False Negative Rate'], figsize=(10,6))\n",
    "ax.plot([0.01,0.01],[0,0.16])\n",
    "ax.set_xbound(0,0.03); ax.set_ybound(0,0.8)\n",
    "\n",
    "# in this case, we might choose to apply a threshold of 0.01"
   ]
  },
  {
   "cell_type": "code",
   "execution_count": 150,
   "metadata": {},
   "outputs": [
    {
     "data": {
      "text/html": [
       "<div>\n",
       "<style scoped>\n",
       "    .dataframe tbody tr th:only-of-type {\n",
       "        vertical-align: middle;\n",
       "    }\n",
       "\n",
       "    .dataframe tbody tr th {\n",
       "        vertical-align: top;\n",
       "    }\n",
       "\n",
       "    .dataframe thead th {\n",
       "        text-align: right;\n",
       "    }\n",
       "</style>\n",
       "<table border=\"1\" class=\"dataframe\">\n",
       "  <thead>\n",
       "    <tr style=\"text-align: right;\">\n",
       "      <th></th>\n",
       "      <th>Pred 0(Approve as Legit)</th>\n",
       "      <th>Pred 1(Deny as Fraud)</th>\n",
       "    </tr>\n",
       "  </thead>\n",
       "  <tbody>\n",
       "    <tr>\n",
       "      <th>True 0(Legit)</th>\n",
       "      <td>TN = 83478 (TNR = 97.87%)</td>\n",
       "      <td>FP = 1817 (FPR = 2.13%)</td>\n",
       "    </tr>\n",
       "    <tr>\n",
       "      <th>True 1(Fraud)</th>\n",
       "      <td>FN = 19 (FNR = 12.84%)</td>\n",
       "      <td>TP = 129 (TPR = 87.16%)</td>\n",
       "    </tr>\n",
       "  </tbody>\n",
       "</table>\n",
       "</div>"
      ],
      "text/plain": [
       "                Pred 0(Approve as Legit)    Pred 1(Deny as Fraud)\n",
       "True 0(Legit)  TN = 83478 (TNR = 97.87%)  FP = 1817 (FPR = 2.13%)\n",
       "True 1(Fraud)     FN = 19 (FNR = 12.84%)  TP = 129 (TPR = 87.16%)"
      ]
     },
     "execution_count": 150,
     "metadata": {},
     "output_type": "execute_result"
    }
   ],
   "source": [
    "hardpredtst_tuned_thresh = np.where(predtst >= 0.01, 1, 0)\n",
    "conf_matrix(ytest, hardpredtst_tuned_thresh)"
   ]
  },
  {
   "cell_type": "markdown",
   "metadata": {},
   "source": [
    "##### (Histogram-based GB classifier)"
   ]
  },
  {
   "cell_type": "code",
   "execution_count": 129,
   "metadata": {},
   "outputs": [],
   "source": [
    "from sklearn.ensemble import HistGradientBoostingClassifier\n",
    "from sklearn.ensemble import HistGradientBoostingClassifier\n",
    "gbc=HistGradientBoostingClassifier(learning_rate=0.01, \n",
    "        max_iter=2000, max_leaf_nodes=6, validation_fraction=0.2, \n",
    "        n_iter_no_change=15, random_state=42).fit(Xtrain,ytrain)"
   ]
  },
  {
   "cell_type": "code",
   "execution_count": 130,
   "metadata": {},
   "outputs": [
    {
     "data": {
      "text/html": [
       "<div>\n",
       "<style scoped>\n",
       "    .dataframe tbody tr th:only-of-type {\n",
       "        vertical-align: middle;\n",
       "    }\n",
       "\n",
       "    .dataframe tbody tr th {\n",
       "        vertical-align: top;\n",
       "    }\n",
       "\n",
       "    .dataframe thead th {\n",
       "        text-align: right;\n",
       "    }\n",
       "</style>\n",
       "<table border=\"1\" class=\"dataframe\">\n",
       "  <thead>\n",
       "    <tr style=\"text-align: right;\">\n",
       "      <th></th>\n",
       "      <th>Pred 0(Approve as Legit)</th>\n",
       "      <th>Pred 1(Deny as Fraud)</th>\n",
       "    </tr>\n",
       "  </thead>\n",
       "  <tbody>\n",
       "    <tr>\n",
       "      <th>True 0(Legit)</th>\n",
       "      <td>TN = 85284 (TNR = 99.99%)</td>\n",
       "      <td>FP = 11 (FPR = 0.01%)</td>\n",
       "    </tr>\n",
       "    <tr>\n",
       "      <th>True 1(Fraud)</th>\n",
       "      <td>FN = 40 (FNR = 27.03%)</td>\n",
       "      <td>TP = 108 (TPR = 72.97%)</td>\n",
       "    </tr>\n",
       "  </tbody>\n",
       "</table>\n",
       "</div>"
      ],
      "text/plain": [
       "                Pred 0(Approve as Legit)    Pred 1(Deny as Fraud)\n",
       "True 0(Legit)  TN = 85284 (TNR = 99.99%)    FP = 11 (FPR = 0.01%)\n",
       "True 1(Fraud)     FN = 40 (FNR = 27.03%)  TP = 108 (TPR = 72.97%)"
      ]
     },
     "execution_count": 130,
     "metadata": {},
     "output_type": "execute_result"
    }
   ],
   "source": [
    "hardpredtst=gbc.predict(Xtest)\n",
    "def conf_matrix(y,pred):\n",
    "    ((tn, fp), (fn, tp)) = metrics.confusion_matrix(y, pred)\n",
    "    ((tnr,fpr),(fnr,tpr))= metrics.confusion_matrix(y, pred, \n",
    "            normalize='true')\n",
    "    return pd.DataFrame([[f'TN = {tn} (TNR = {tnr:1.2%})', \n",
    "                                f'FP = {fp} (FPR = {fpr:1.2%})'], \n",
    "                         [f'FN = {fn} (FNR = {fnr:1.2%})', \n",
    "                                f'TP = {tp} (TPR = {tpr:1.2%})']],\n",
    "            index=['True 0(Legit)', 'True 1(Fraud)'], \n",
    "            columns=['Pred 0(Approve as Legit)', \n",
    "                            'Pred 1(Deny as Fraud)'])\n",
    "conf_matrix(ytest,hardpredtst)"
   ]
  },
  {
   "cell_type": "code",
   "execution_count": 131,
   "metadata": {},
   "outputs": [
    {
     "data": {
      "image/png": "[encoded data removed]",
      "text/plain": [
       "<Figure size 720x432 with 1 Axes>"
      ]
     },
     "metadata": {
      "needs_background": "light"
     },
     "output_type": "display_data"
    }
   ],
   "source": [
    "predtst=gbc.predict_proba(Xtest)[:,1]\n",
    "fpr, tpr, thresholds = metrics.roc_curve(ytest, predtst)\n",
    "dfplot=pd.DataFrame({'Threshold':thresholds, \n",
    "        'False Positive Rate':fpr, \n",
    "        'False Negative Rate': 1.-tpr})\n",
    "ax=dfplot.plot(x='Threshold', y=['False Positive Rate',\n",
    "        'False Negative Rate'], figsize=(10,6))\n",
    "ax.plot([0.00035,0.00035],[0,0.1])\n",
    "ax.set_xbound(0,0.0008); ax.set_ybound(0,0.3)"
   ]
  },
  {
   "cell_type": "code",
   "execution_count": 132,
   "metadata": {},
   "outputs": [
    {
     "data": {
      "text/html": [
       "<div>\n",
       "<style scoped>\n",
       "    .dataframe tbody tr th:only-of-type {\n",
       "        vertical-align: middle;\n",
       "    }\n",
       "\n",
       "    .dataframe tbody tr th {\n",
       "        vertical-align: top;\n",
       "    }\n",
       "\n",
       "    .dataframe thead th {\n",
       "        text-align: right;\n",
       "    }\n",
       "</style>\n",
       "<table border=\"1\" class=\"dataframe\">\n",
       "  <thead>\n",
       "    <tr style=\"text-align: right;\">\n",
       "      <th></th>\n",
       "      <th>Pred 0(Approve as Legit)</th>\n",
       "      <th>Pred 1(Deny as Fraud)</th>\n",
       "    </tr>\n",
       "  </thead>\n",
       "  <tbody>\n",
       "    <tr>\n",
       "      <th>True 0(Legit)</th>\n",
       "      <td>TN = 80752 (TNR = 94.67%)</td>\n",
       "      <td>FP = 4543 (FPR = 5.33%)</td>\n",
       "    </tr>\n",
       "    <tr>\n",
       "      <th>True 1(Fraud)</th>\n",
       "      <td>FN = 17 (FNR = 11.49%)</td>\n",
       "      <td>TP = 131 (TPR = 88.51%)</td>\n",
       "    </tr>\n",
       "  </tbody>\n",
       "</table>\n",
       "</div>"
      ],
      "text/plain": [
       "                Pred 0(Approve as Legit)    Pred 1(Deny as Fraud)\n",
       "True 0(Legit)  TN = 80752 (TNR = 94.67%)  FP = 4543 (FPR = 5.33%)\n",
       "True 1(Fraud)     FN = 17 (FNR = 11.49%)  TP = 131 (TPR = 88.51%)"
      ]
     },
     "execution_count": 132,
     "metadata": {},
     "output_type": "execute_result"
    }
   ],
   "source": [
    "hardpredtst_tuned_thresh = np.where(predtst >= 0.00035, 1, 0)\n",
    "conf_matrix(ytest, hardpredtst_tuned_thresh)"
   ]
  },
  {
   "cell_type": "markdown",
   "metadata": {},
   "source": [
    "Much to my surprise, the Random Forest Classifier did a better job than the more advanced histogram-based Gradient Boosting classification tree algorithm"
   ]
  }
 ],
 "metadata": {
  "kernelspec": {
   "display_name": "Python 3",
   "language": "python",
   "name": "python3"
  },
  "language_info": {
   "codemirror_mode": {
    "name": "ipython",
    "version": 3
   },
   "file_extension": ".py",
   "mimetype": "text/x-python",
   "name": "python",
   "nbconvert_exporter": "python",
   "pygments_lexer": "ipython3",
   "version": "3.7.3"
  }
 },
 "nbformat": 4,
 "nbformat_minor": 2
}
